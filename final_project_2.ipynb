{
 "cells": [
  {
   "cell_type": "code",
   "execution_count": 1,
   "metadata": {},
   "outputs": [],
   "source": [
    "import os, shutil\n",
    "import random\n",
    "import pandas as pd\n",
    "import numpy as np\n",
    "import cv2\n",
    "import torch\n",
    "import torch.nn as nn\n",
    "import torch.nn.functional as F\n",
    "from tqdm import tqdm\n",
    "from torchvision import datasets, transforms, models \n",
    "from torchvision.datasets import ImageFolder\n",
    "from torchvision.transforms import ToTensor\n",
    "from torchvision.utils import make_grid\n",
    "from torch.utils.data import random_split\n",
    "from torch.utils.data.dataloader import DataLoader\n",
    "import matplotlib.pyplot as plt\n",
    "%matplotlib inline\n",
    "from glob import glob\n",
    "from sklearn.model_selection import train_test_split"
   ]
  },
  {
   "cell_type": "markdown",
   "metadata": {},
   "source": []
  },
  {
   "cell_type": "code",
   "execution_count": 2,
   "metadata": {},
   "outputs": [],
   "source": [
    "original_data_dir = \"/Users/kimhyunmin/animal_images\""
   ]
  },
  {
   "cell_type": "code",
   "execution_count": 3,
   "metadata": {},
   "outputs": [],
   "source": [
    "df = pd.read_csv(\"/Users/kimhyunmin/animal_data_img.csv\")"
   ]
  },
  {
   "cell_type": "code",
   "execution_count": 4,
   "metadata": {},
   "outputs": [
    {
     "data": {
      "text/html": [
       "<div>\n",
       "<style scoped>\n",
       "    .dataframe tbody tr th:only-of-type {\n",
       "        vertical-align: middle;\n",
       "    }\n",
       "\n",
       "    .dataframe tbody tr th {\n",
       "        vertical-align: top;\n",
       "    }\n",
       "\n",
       "    .dataframe thead th {\n",
       "        text-align: right;\n",
       "    }\n",
       "</style>\n",
       "<table border=\"1\" class=\"dataframe\">\n",
       "  <thead>\n",
       "    <tr style=\"text-align: right;\">\n",
       "      <th></th>\n",
       "      <th>Label</th>\n",
       "      <th>Animal_Type</th>\n",
       "      <th>Image_File</th>\n",
       "    </tr>\n",
       "  </thead>\n",
       "  <tbody>\n",
       "    <tr>\n",
       "      <th>0</th>\n",
       "      <td>indian ringneck</td>\n",
       "      <td>Bird</td>\n",
       "      <td>animal_images/1633802583762_Indian Ringneck fo...</td>\n",
       "    </tr>\n",
       "    <tr>\n",
       "      <th>1</th>\n",
       "      <td>rottweiler puppy</td>\n",
       "      <td>Dog</td>\n",
       "      <td>animal_images/1633802583996_Rottweiler Puppy f...</td>\n",
       "    </tr>\n",
       "    <tr>\n",
       "      <th>2</th>\n",
       "      <td>rabbit</td>\n",
       "      <td>Rabbit</td>\n",
       "      <td>animal_images/1633802584211_Rabbit for sale.jpg</td>\n",
       "    </tr>\n",
       "    <tr>\n",
       "      <th>3</th>\n",
       "      <td>cokatail bird</td>\n",
       "      <td>Bird</td>\n",
       "      <td>animal_images/1633802584412_Cokatail bird for ...</td>\n",
       "    </tr>\n",
       "    <tr>\n",
       "      <th>4</th>\n",
       "      <td>apple konda pigeon</td>\n",
       "      <td>Bird</td>\n",
       "      <td>animal_images/1633802584634_Apple Konda Pigeon...</td>\n",
       "    </tr>\n",
       "  </tbody>\n",
       "</table>\n",
       "</div>"
      ],
      "text/plain": [
       "                 Label Animal_Type  \\\n",
       "0     indian ringneck         Bird   \n",
       "1    rottweiler puppy          Dog   \n",
       "2              rabbit       Rabbit   \n",
       "3       cokatail bird         Bird   \n",
       "4  apple konda pigeon         Bird   \n",
       "\n",
       "                                          Image_File  \n",
       "0  animal_images/1633802583762_Indian Ringneck fo...  \n",
       "1  animal_images/1633802583996_Rottweiler Puppy f...  \n",
       "2    animal_images/1633802584211_Rabbit for sale.jpg  \n",
       "3  animal_images/1633802584412_Cokatail bird for ...  \n",
       "4  animal_images/1633802584634_Apple Konda Pigeon...  "
      ]
     },
     "execution_count": 4,
     "metadata": {},
     "output_type": "execute_result"
    }
   ],
   "source": [
    "df.head()"
   ]
  },
  {
   "cell_type": "code",
   "execution_count": 5,
   "metadata": {},
   "outputs": [],
   "source": [
    "labels = df.sort_values(\"Animal_Type\")\n",
    "\n",
    "class_names = list(labels.Animal_Type.unique())"
   ]
  },
  {
   "cell_type": "code",
   "execution_count": null,
   "metadata": {},
   "outputs": [],
   "source": [
    "#make categories"
   ]
  },
  {
   "cell_type": "code",
   "execution_count": 190,
   "metadata": {},
   "outputs": [],
   "source": [
    "for i in class_names:\n",
    "    img_dir = os.makedirs(os.path.join('train_', i))"
   ]
  },
  {
   "cell_type": "code",
   "execution_count": null,
   "metadata": {},
   "outputs": [],
   "source": [
    "#move images"
   ]
  },
  {
   "cell_type": "code",
   "execution_count": 191,
   "metadata": {},
   "outputs": [],
   "source": [
    "for c in class_names:\n",
    "    for i in list(labels[labels['Animal_Type']==c][\"Image_File\"]): # Image Id\n",
    "        get_image = os.path.join(original_data_dir, i)\n",
    "        move_image_to_cat = shutil.copy(get_image, '/Users/kimhyunmin/train_/' + c)         "
   ]
  },
  {
   "cell_type": "code",
   "execution_count": 192,
   "metadata": {},
   "outputs": [],
   "source": [
    "class_names = ['Bird', 'Cat', 'Dog', 'Fish', 'Guinea pig', 'Other', 'Rabbit']"
   ]
  },
  {
   "cell_type": "code",
   "execution_count": 209,
   "metadata": {},
   "outputs": [],
   "source": [
    "bl = len(df[df[\"Animal_Type\"] == \"Bird\"])\n",
    "dl = len(df[df[\"Animal_Type\"] == \"Dog\"])\n",
    "rl = len(df[df[\"Animal_Type\"] == \"Rabbit\"])\n",
    "fl = len(df[df[\"Animal_Type\"] == \"Fish\"])\n",
    "cl = len(df[df[\"Animal_Type\"] == \"Cat\"])\n",
    "gl = len(df[df[\"Animal_Type\"] == \"Guinea pig / mouse\"])\n",
    "ol = len(df[df[\"Animal_Type\"] == \"Other\"])"
   ]
  },
  {
   "cell_type": "code",
   "execution_count": null,
   "metadata": {},
   "outputs": [],
   "source": [
    "#make each train, validation, test set"
   ]
  },
  {
   "cell_type": "code",
   "execution_count": 199,
   "metadata": {},
   "outputs": [],
   "source": [
    "btrain = os.makedirs(os.path.join(\"/Users/kimhyunmin/train_/Bird\", 'train'), exist_ok=True)\n",
    "bval = os.makedirs(os.path.join(\"/Users/kimhyunmin/train_/Bird\", 'validation'), exist_ok=True)\n",
    "btest = os.makedirs(os.path.join(\"/Users/kimhyunmin/train_/Bird\", 'test'), exist_ok=True)\n",
    "\n",
    "ctrain = os.makedirs(os.path.join(\"/Users/kimhyunmin/train_/Cat\", 'train'), exist_ok=True)\n",
    "cval = os.makedirs(os.path.join(\"/Users/kimhyunmin/train_/Cat\", 'validation'), exist_ok=True)\n",
    "ctest = os.makedirs(os.path.join(\"/Users/kimhyunmin/train_/Cat\", 'test'), exist_ok=True)\n",
    "\n",
    "dtrain = os.makedirs(os.path.join(\"/Users/kimhyunmin/train_/Dog\", 'train'), exist_ok=True)\n",
    "dval = os.makedirs(os.path.join(\"/Users/kimhyunmin/train_/Dog\", 'validation'), exist_ok=True)\n",
    "dtest = os.makedirs(os.path.join(\"/Users/kimhyunmin/train_/Dog\", 'test'), exist_ok=True)\n",
    "\n",
    "ftrain = os.makedirs(os.path.join(\"/Users/kimhyunmin/train_/Fish\", 'train'), exist_ok=True)\n",
    "fval = os.makedirs(os.path.join(\"/Users/kimhyunmin/train_/Fish\", 'validation'), exist_ok=True)\n",
    "ftest = os.makedirs(os.path.join(\"/Users/kimhyunmin/train_/Fish\", 'test'), exist_ok=True)\n",
    "\n",
    "gtrain = os.makedirs(os.path.join(\"/Users/kimhyunmin/train_/Guinea pig\", 'train'), exist_ok=True)\n",
    "gval = os.makedirs(os.path.join(\"/Users/kimhyunmin/train_/Guinea pig\", 'validation'), exist_ok=True)\n",
    "gtest = os.makedirs(os.path.join(\"/Users/kimhyunmin/train_/Guinea pig\", 'test'), exist_ok=True)\n",
    "\n",
    "otrain = os.makedirs(os.path.join(\"/Users/kimhyunmin/train_/Other\", 'train'), exist_ok=True)\n",
    "oval = os.makedirs(os.path.join(\"/Users/kimhyunmin/train_/Other\", 'validation'), exist_ok=True)\n",
    "otest = os.makedirs(os.path.join(\"/Users/kimhyunmin/train_/Other\", 'test'), exist_ok=True)\n",
    "\n",
    "rtrain = os.makedirs(os.path.join(\"/Users/kimhyunmin/train_/Rabbit\", 'train'), exist_ok=True)\n",
    "rval = os.makedirs(os.path.join(\"/Users/kimhyunmin/train_/Rabbit\", 'validation'), exist_ok=True)\n",
    "rtest = os.makedirs(os.path.join(\"/Users/kimhyunmin/train_/Rabbit\", 'test'), exist_ok=True)"
   ]
  },
  {
   "cell_type": "code",
   "execution_count": null,
   "metadata": {},
   "outputs": [],
   "source": [
    "def batch_move_files(file_list, source_path, destination_path):\n",
    "    for file in file_list:\n",
    "        image = file.split('/')[-1] + '.jpg'\n",
    "        shutil.copy(os.path.join(source_path, image), destination_path)\n",
    "    return"
   ]
  },
  {
   "cell_type": "code",
   "execution_count": null,
   "metadata": {},
   "outputs": [],
   "source": [
    "#classification bird"
   ]
  },
  {
   "cell_type": "code",
   "execution_count": 200,
   "metadata": {},
   "outputs": [],
   "source": [
    "image_files1 = glob(\"/Users/kimhyunmin/train_/Bird/*.jpg\")\n",
    "images1 = [name.replace(\".jpg\",\"\") for name in image_files1]\n",
    "\n",
    "train_names, test_names = train_test_split(images1, test_size=0.2,\n",
    "                                          random_state=42, shuffle=True)\n",
    "val_names, test_names = train_test_split(test_names, test_size=0.5,\n",
    "                                        random_state=42, shuffle=True)\n",
    "\n",
    "\n",
    "source_dir1 = \"/Users/kimhyunmin/train_/Bird/\"\n",
    "train_dir1 = \"/Users/kimhyunmin/train_/Bird/train\"\n",
    "val_dir1 = \"/Users/kimhyunmin/train_/Bird/validation\"\n",
    "test_dir1 = \"/Users/kimhyunmin/train_/Bird/test\"\n",
    "batch_move_files(train_names, source_dir1, train_dir1)\n",
    "batch_move_files(val_names, source_dir1, val_dir1)\n",
    "batch_move_files(test_names, source_dir1, test_dir1)"
   ]
  },
  {
   "cell_type": "code",
   "execution_count": null,
   "metadata": {},
   "outputs": [],
   "source": [
    "#classification cat"
   ]
  },
  {
   "cell_type": "code",
   "execution_count": 201,
   "metadata": {},
   "outputs": [],
   "source": [
    "image_files2 = glob(\"/Users/kimhyunmin/train_/Cat/*.jpg\")\n",
    "images2 = [name.replace(\".jpg\",\"\") for name in image_files2]\n",
    "\n",
    "train_names, test_names = train_test_split(images2, test_size=0.2,\n",
    "                                          random_state=42, shuffle=True)\n",
    "val_names, test_names = train_test_split(test_names, test_size=0.5,\n",
    "                                        random_state=42, shuffle=True)\n",
    "\n",
    "source_dir2 = \"/Users/kimhyunmin/train_/Cat/\"\n",
    "train_dir2 = \"/Users/kimhyunmin/train_/Cat/train\"\n",
    "val_dir2 = \"/Users/kimhyunmin/train_/Cat/validation\"\n",
    "test_dir2 = \"/Users/kimhyunmin/train_/Cat/test\"\n",
    "batch_move_files(train_names, source_dir2, train_dir2)\n",
    "batch_move_files(val_names, source_dir2, val_dir2)\n",
    "batch_move_files(test_names, source_dir2, test_dir2)"
   ]
  },
  {
   "cell_type": "code",
   "execution_count": null,
   "metadata": {},
   "outputs": [],
   "source": [
    "#classification dog"
   ]
  },
  {
   "cell_type": "code",
   "execution_count": 202,
   "metadata": {},
   "outputs": [],
   "source": [
    "image_files3 = glob(\"/Users/kimhyunmin/train_/Dog/*.jpg\")\n",
    "images3 = [name.replace(\".jpg\",\"\") for name in image_files3]\n",
    "\n",
    "train_names, test_names = train_test_split(images3, test_size=0.2,\n",
    "                                          random_state=42, shuffle=True)\n",
    "val_names, test_names = train_test_split(test_names, test_size=0.5,\n",
    "                                        random_state=42, shuffle=True)\n",
    "\n",
    "source_dir3 = \"/Users/kimhyunmin/train_/Dog/\"\n",
    "train_dir3 = \"/Users/kimhyunmin/train_/Dog/train\"\n",
    "val_dir3 = \"/Users/kimhyunmin/train_/Dog/validation\"\n",
    "test_dir3 = \"/Users/kimhyunmin/train_/Dog/test\"\n",
    "batch_move_files(train_names, source_dir3, train_dir3)\n",
    "batch_move_files(val_names, source_dir3, val_dir3)\n",
    "batch_move_files(test_names, source_dir3, test_dir3)"
   ]
  },
  {
   "cell_type": "code",
   "execution_count": null,
   "metadata": {},
   "outputs": [],
   "source": [
    "#classification fish"
   ]
  },
  {
   "cell_type": "code",
   "execution_count": 203,
   "metadata": {},
   "outputs": [],
   "source": [
    "image_files4 = glob(\"/Users/kimhyunmin/train_/Fish/*.jpg\")\n",
    "images4 = [name.replace(\".jpg\",\"\") for name in image_files4]\n",
    "\n",
    "train_names, test_names = train_test_split(images4, test_size=0.2,\n",
    "                                          random_state=42, shuffle=True)\n",
    "val_names, test_names = train_test_split(test_names, test_size=0.5,\n",
    "                                        random_state=42, shuffle=True)\n",
    "\n",
    "source_dir4 = \"/Users/kimhyunmin/train_/Fish/\"\n",
    "train_dir4 = \"/Users/kimhyunmin/train_/Fish/train\"\n",
    "val_dir4 = \"/Users/kimhyunmin/train_/Fish/validation\"\n",
    "test_dir4 = \"/Users/kimhyunmin/train_/Fish/test\"\n",
    "batch_move_files(train_names, source_dir4, train_dir4)\n",
    "batch_move_files(val_names, source_dir4, val_dir4)\n",
    "batch_move_files(test_names, source_dir4, test_dir4)"
   ]
  },
  {
   "cell_type": "code",
   "execution_count": null,
   "metadata": {},
   "outputs": [],
   "source": [
    "#classification Guinea pig"
   ]
  },
  {
   "cell_type": "code",
   "execution_count": 204,
   "metadata": {},
   "outputs": [],
   "source": [
    "image_files5 = glob(\"/Users/kimhyunmin/train_/Guinea pig/*.jpg\")\n",
    "images5 = [name.replace(\".jpg\",\"\") for name in image_files5]\n",
    "\n",
    "train_names, test_names = train_test_split(images5, test_size=0.2,\n",
    "                                          random_state=42, shuffle=True)\n",
    "val_names, test_names = train_test_split(test_names, test_size=0.5,\n",
    "                                        random_state=42, shuffle=True)\n",
    "\n",
    "source_dir5 = \"/Users/kimhyunmin/train_/Guinea pig/\"\n",
    "train_dir5 = \"/Users/kimhyunmin/train_/Guinea pig/train\"\n",
    "val_dir5 = \"/Users/kimhyunmin/train_/Guinea pig/validation\"\n",
    "test_dir5 = \"/Users/kimhyunmin/train_/Guinea pig/test\"\n",
    "batch_move_files(train_names, source_dir5, train_dir5)\n",
    "batch_move_files(val_names, source_dir5, val_dir5)\n",
    "batch_move_files(test_names, source_dir5, test_dir5)"
   ]
  },
  {
   "cell_type": "code",
   "execution_count": null,
   "metadata": {},
   "outputs": [],
   "source": [
    "#classification Other"
   ]
  },
  {
   "cell_type": "code",
   "execution_count": 205,
   "metadata": {},
   "outputs": [],
   "source": [
    "image_files6 = glob(\"/Users/kimhyunmin/train_/Other/*.jpg\")\n",
    "images6 = [name.replace(\".jpg\",\"\") for name in image_files6]\n",
    "\n",
    "train_names, test_names = train_test_split(images6, test_size=0.2,\n",
    "                                          random_state=42, shuffle=True)\n",
    "val_names, test_names = train_test_split(test_names, test_size=0.5,\n",
    "                                        random_state=42, shuffle=True)\n",
    "\n",
    "source_dir6 = \"/Users/kimhyunmin/train_/Other/\"\n",
    "train_dir6 = \"/Users/kimhyunmin/train_/Other/train\"\n",
    "val_dir6 = \"/Users/kimhyunmin/train_/Other/validation\"\n",
    "test_dir6 = \"/Users/kimhyunmin/train_/Other/test\"\n",
    "batch_move_files(train_names, source_dir6, train_dir6)\n",
    "batch_move_files(val_names, source_dir6, val_dir6)\n",
    "batch_move_files(test_names, source_dir6, test_dir6)"
   ]
  },
  {
   "cell_type": "code",
   "execution_count": null,
   "metadata": {},
   "outputs": [],
   "source": [
    "#classification Rabbit"
   ]
  },
  {
   "cell_type": "code",
   "execution_count": 206,
   "metadata": {},
   "outputs": [],
   "source": [
    "image_files7 = glob(\"/Users/kimhyunmin/train_/Rabbit/*.jpg\")\n",
    "images7 = [name.replace(\".jpg\",\"\") for name in image_files7]\n",
    "\n",
    "train_names, test_names = train_test_split(images7, test_size=0.2,\n",
    "                                          random_state=42, shuffle=True)\n",
    "val_names, test_names = train_test_split(test_names, test_size=0.5,\n",
    "                                        random_state=42, shuffle=True)\n",
    "\n",
    "source_dir7 = \"/Users/kimhyunmin/train_/Rabbit/\"\n",
    "train_dir7 = \"/Users/kimhyunmin/train_/Rabbit/train\"\n",
    "val_dir7 = \"/Users/kimhyunmin/train_/Rabbit/validation\"\n",
    "test_dir7 = \"/Users/kimhyunmin/train_/Rabbit/test\"\n",
    "batch_move_files(train_names, source_dir7, train_dir7)\n",
    "batch_move_files(val_names, source_dir7, val_dir7)\n",
    "batch_move_files(test_names, source_dir7, test_dir7)"
   ]
  },
  {
   "cell_type": "code",
   "execution_count": null,
   "metadata": {},
   "outputs": [],
   "source": [
    "#make train, validation, test set"
   ]
  },
  {
   "cell_type": "code",
   "execution_count": 234,
   "metadata": {},
   "outputs": [],
   "source": [
    "base_dir = \"/Users/kimhyunmin/data\"\n",
    "\n",
    "if os.path.exists(base_dir):\n",
    "    shutil.rmtree(base_dir)\n",
    "os.mkdir(base_dir)\n",
    "\n",
    "train_dir = os.mkdir(os.path.join(base_dir, 'train'))\n",
    "validation_dir = os.mkdir(os.path.join(base_dir, 'validation'))\n",
    "test_dir = os.mkdir(os.path.join(base_dir, 'test'))"
   ]
  },
  {
   "cell_type": "code",
   "execution_count": 251,
   "metadata": {},
   "outputs": [],
   "source": [
    "for i in class_names:\n",
    "    os.makedirs(os.path.join(\"/Users/kimhyunmin/data/train\", i))\n",
    "    os.makedirs(os.path.join(\"/Users/kimhyunmin/data/validation\", i))\n",
    "    os.makedirs(os.path.join(\"/Users/kimhyunmin/data/test\", i))"
   ]
  },
  {
   "cell_type": "code",
   "execution_count": null,
   "metadata": {},
   "outputs": [],
   "source": [
    "#train set"
   ]
  },
  {
   "cell_type": "code",
   "execution_count": 252,
   "metadata": {},
   "outputs": [],
   "source": [
    "path1 = \"/Users/kimhyunmin/train_/\", c, 'train'\n",
    "for c in class_names: \n",
    "    path1 = os.path.join( '/Users/kimhyunmin/train_/' , c, 'train')\n",
    "    for fname in os.listdir(path1):\n",
    "        src = os.path.join('/Users/kimhyunmin/train_/' , c, 'train', fname)\n",
    "        dst = os.path.join(\"/Users/kimhyunmin/data/train/\", c, fname) \n",
    "        shutil.copy(src, dst)\n",
    "        "
   ]
  },
  {
   "cell_type": "code",
   "execution_count": null,
   "metadata": {},
   "outputs": [],
   "source": [
    "#validation set"
   ]
  },
  {
   "cell_type": "code",
   "execution_count": 253,
   "metadata": {},
   "outputs": [],
   "source": [
    "path2 = \"/Users/kimhyunmin/train_/\", c, 'validation'\n",
    "for c in class_names:\n",
    "    path2 = os.path.join( '/Users/kimhyunmin/train_/' , c, 'validation')\n",
    "    for fname in os.listdir(path2):\n",
    "        src = os.path.join('/Users/kimhyunmin/train_/' , c, 'validation', fname) \n",
    "        dst = os.path.join(\"/Users/kimhyunmin/data/validation/\", c, fname) \n",
    "        shutil.copy(src, dst)"
   ]
  },
  {
   "cell_type": "code",
   "execution_count": null,
   "metadata": {},
   "outputs": [],
   "source": [
    "#test set"
   ]
  },
  {
   "cell_type": "code",
   "execution_count": 254,
   "metadata": {},
   "outputs": [],
   "source": [
    "path3 = \"/Users/kimhyunmin/train_\", c, 'test'\n",
    "for c in class_names: \n",
    "    path3 = os.path.join( '/Users/kimhyunmin/train_/' , c, 'test')\n",
    "    for fname in os.listdir(path3):\n",
    "        src = os.path.join('/Users/kimhyunmin/train_/' , c, 'test', fname) \n",
    "        dst = os.path.join(\"/Users/kimhyunmin/data/test/\", c, fname) \n",
    "        shutil.copy(src, dst)"
   ]
  },
  {
   "cell_type": "markdown",
   "metadata": {},
   "source": [
    "Modeling"
   ]
  },
  {
   "cell_type": "code",
   "execution_count": 6,
   "metadata": {},
   "outputs": [],
   "source": [
    "train_dir = \"/Users/kimhyunmin/data/train\"\n",
    "validation_dir = \"/Users/kimhyunmin/data/validation\"\n",
    "test_dir = \"/Users/kimhyunmin/data/test\""
   ]
  },
  {
   "cell_type": "code",
   "execution_count": 7,
   "metadata": {},
   "outputs": [],
   "source": [
    "b_train = \"/Users/kimhyunmin/data/train/Bird\"\n",
    "b_val = \"/Users/kimhyunmin/data/validation/Bird\"\n",
    "b_test = \"/Users/kimhyunmin/data/test/Bird\"\n",
    "\n",
    "c_train = \"/Users/kimhyunmin/data/train/Cat\"\n",
    "c_val = \"/Users/kimhyunmin/data/validation/Cat\"\n",
    "c_test = \"/Users/kimhyunmin/data/test/Cat\"\n",
    "\n",
    "d_train = \"/Users/kimhyunmin/data/train/Dog\"\n",
    "d_val = \"/Users/kimhyunmin/data/validation/Dog\"\n",
    "d_test = \"/Users/kimhyunmin/data/test/Dog\"\n",
    "\n",
    "f_train = \"/Users/kimhyunmin/data/train/Fish\"\n",
    "f_val = \"/Users/kimhyunmin/data/validation/Fish\"\n",
    "f_test = \"/Users/kimhyunmin/data/test/Fish\"\n",
    "\n",
    "g_train = \"/Users/kimhyunmin/data/train/Guinea pig\"\n",
    "g_val = \"/Users/kimhyunmin/data/validation/Guinea pig\"\n",
    "g_test = \"/Users/kimhyunmin/data/test/Guinea pig\"\n",
    "\n",
    "o_train = \"/Users/kimhyunmin/data/train/Other\"\n",
    "o_val = \"/Users/kimhyunmin/data/validation/Other\"\n",
    "o_test = \"/Users/kimhyunmin/data/test/Other\"\n",
    "\n",
    "r_train = \"/Users/kimhyunmin/data/train/Rabbit\"\n",
    "r_val = \"/Users/kimhyunmin/data/validation/Rabbit\"\n",
    "r_test = \"/Users/kimhyunmin/data/test/Rabbit\""
   ]
  },
  {
   "cell_type": "code",
   "execution_count": 8,
   "metadata": {},
   "outputs": [
    {
     "name": "stdout",
     "output_type": "stream",
     "text": [
      "Found 9564 images belonging to 7 classes.\n",
      "Found 1196 images belonging to 7 classes.\n"
     ]
    }
   ],
   "source": [
    "from tensorflow.keras.preprocessing.image import ImageDataGenerator\n",
    "\n",
    "# 0~1 사이값으로 픽셀값을 변환\n",
    "train_datagen = ImageDataGenerator(rescale=1./255)\n",
    "test_datagen = ImageDataGenerator(rescale=1./255)\n",
    "\n",
    "\n",
    "train_generator = train_datagen.flow_from_directory(\n",
    "    train_dir, # 폴더명\n",
    "    target_size=(150,150), # 이미지 크기를 동일한 크기로 변환\n",
    "    batch_size=20, # 한 번에 전처리할 이미지의 수\n",
    "    class_mode=\"categorical\")\n",
    "\n",
    "validation_generator = test_datagen.flow_from_directory(\n",
    "    validation_dir,\n",
    "    target_size=(150,150),\n",
    "    batch_size=20,\n",
    "    class_mode=\"categorical\")"
   ]
  },
  {
   "cell_type": "code",
   "execution_count": 9,
   "metadata": {},
   "outputs": [
    {
     "name": "stdout",
     "output_type": "stream",
     "text": [
      "Found 1199 images belonging to 7 classes.\n"
     ]
    }
   ],
   "source": [
    "test_generator = test_datagen.flow_from_directory(\n",
    "    test_dir,\n",
    "    target_size=(150,150),\n",
    "    batch_size=20,\n",
    "    class_mode=\"categorical\")"
   ]
  },
  {
   "cell_type": "code",
   "execution_count": 10,
   "metadata": {},
   "outputs": [
    {
     "name": "stdout",
     "output_type": "stream",
     "text": [
      "{'Bird': 0, 'Cat': 1, 'Dog': 2, 'Fish': 3, 'Guinea pig': 4, 'Other': 5, 'Rabbit': 6}\n",
      "{'Bird': 0, 'Cat': 1, 'Dog': 2, 'Fish': 3, 'Guinea pig': 4, 'Other': 5, 'Rabbit': 6}\n"
     ]
    }
   ],
   "source": [
    "print(train_generator.class_indices)\n",
    "print(validation_generator.class_indices)"
   ]
  },
  {
   "cell_type": "markdown",
   "metadata": {},
   "source": [
    "CNN모델1"
   ]
  },
  {
   "cell_type": "code",
   "execution_count": 11,
   "metadata": {},
   "outputs": [
    {
     "name": "stdout",
     "output_type": "stream",
     "text": [
      "Model: \"sequential\"\n",
      "_________________________________________________________________\n",
      "Layer (type)                 Output Shape              Param #   \n",
      "=================================================================\n",
      "conv2d (Conv2D)              (None, 150, 150, 32)      896       \n",
      "_________________________________________________________________\n",
      "max_pooling2d (MaxPooling2D) (None, 75, 75, 32)        0         \n",
      "_________________________________________________________________\n",
      "conv2d_1 (Conv2D)            (None, 75, 75, 64)        18496     \n",
      "_________________________________________________________________\n",
      "max_pooling2d_1 (MaxPooling2 (None, 37, 37, 64)        0         \n",
      "_________________________________________________________________\n",
      "conv2d_2 (Conv2D)            (None, 37, 37, 128)       73856     \n",
      "_________________________________________________________________\n",
      "max_pooling2d_2 (MaxPooling2 (None, 18, 18, 128)       0         \n",
      "_________________________________________________________________\n",
      "conv2d_3 (Conv2D)            (None, 18, 18, 256)       295168    \n",
      "_________________________________________________________________\n",
      "max_pooling2d_3 (MaxPooling2 (None, 9, 9, 256)         0         \n",
      "_________________________________________________________________\n",
      "flatten (Flatten)            (None, 20736)             0         \n",
      "_________________________________________________________________\n",
      "dense (Dense)                (None, 512)               10617344  \n",
      "_________________________________________________________________\n",
      "dropout (Dropout)            (None, 512)               0         \n",
      "_________________________________________________________________\n",
      "dense_1 (Dense)              (None, 7)                 3591      \n",
      "=================================================================\n",
      "Total params: 11,009,351\n",
      "Trainable params: 11,009,351\n",
      "Non-trainable params: 0\n",
      "_________________________________________________________________\n"
     ]
    }
   ],
   "source": [
    "from tensorflow.keras.models import Sequential\n",
    "from tensorflow.keras.layers import Dense, Dropout, Flatten\n",
    "from tensorflow.keras.layers import Conv2D, MaxPooling2D\n",
    "\n",
    "model1 = Sequential()\n",
    "\n",
    "model1.add(Conv2D(filters=32, kernel_size=(3, 3), input_shape=(150, 150, 3), padding=\"same\", activation=\"relu\"))\n",
    "model1.add(MaxPooling2D(pool_size=(2, 2)))  #same: 필터의 사이즈가 k이면 사방으로 k/2 만큼의 패딩을 준다.\n",
    "model1.add(Conv2D(filters=64, kernel_size=(3, 3), input_shape=(150, 150, 3), padding=\"same\", activation=\"relu\"))\n",
    "model1.add(MaxPooling2D(pool_size=(2, 2)))\n",
    "model1.add(Conv2D(filters=128, kernel_size=(3, 3), input_shape=(150, 150, 3), padding=\"same\", activation=\"relu\"))\n",
    "model1.add(MaxPooling2D(pool_size=(2, 2)))\n",
    "model1.add(Conv2D(filters=256, kernel_size=(3, 3), input_shape=(150, 150, 3), padding=\"same\", activation=\"relu\"))\n",
    "model1.add(MaxPooling2D(pool_size=(2, 2)))\n",
    "\n",
    "model1.add(Flatten())\n",
    "model1.add(Dense(units=512, activation=\"relu\"))\n",
    "model1.add(Dropout(0.5))\n",
    "model1.add(Dense(units=7, activation=\"softmax\"))\n",
    "model1.summary()"
   ]
  },
  {
   "cell_type": "code",
   "execution_count": 12,
   "metadata": {},
   "outputs": [],
   "source": [
    "model1.compile(loss=\"categorical_crossentropy\", optimizer=\"adam\",metrics=[\"acc\"])"
   ]
  },
  {
   "cell_type": "code",
   "execution_count": 13,
   "metadata": {},
   "outputs": [
    {
     "name": "stderr",
     "output_type": "stream",
     "text": [
      "/opt/anaconda3/lib/python3.8/site-packages/keras/engine/training.py:1972: UserWarning: `Model.fit_generator` is deprecated and will be removed in a future version. Please use `Model.fit`, which supports generators.\n",
      "  warnings.warn('`Model.fit_generator` is deprecated and '\n"
     ]
    },
    {
     "name": "stdout",
     "output_type": "stream",
     "text": [
      "Epoch 1/20\n",
      "479/479 [==============================] - 160s 332ms/step - loss: 1.2388 - acc: 0.5128 - val_loss: 1.1604 - val_acc: 0.5727\n",
      "Epoch 2/20\n",
      "479/479 [==============================] - 160s 334ms/step - loss: 1.0594 - acc: 0.6268 - val_loss: 0.9810 - val_acc: 0.6798\n",
      "Epoch 3/20\n",
      "479/479 [==============================] - 160s 334ms/step - loss: 0.9432 - acc: 0.6712 - val_loss: 0.9353 - val_acc: 0.6630\n",
      "Epoch 4/20\n",
      "479/479 [==============================] - 153s 318ms/step - loss: 0.8564 - acc: 0.7040 - val_loss: 0.8525 - val_acc: 0.7065\n",
      "Epoch 5/20\n",
      "479/479 [==============================] - 152s 318ms/step - loss: 0.7337 - acc: 0.7411 - val_loss: 0.8714 - val_acc: 0.6973\n",
      "Epoch 6/20\n",
      "479/479 [==============================] - 161s 336ms/step - loss: 0.6089 - acc: 0.7840 - val_loss: 0.8442 - val_acc: 0.7207\n",
      "Epoch 7/20\n",
      "479/479 [==============================] - 158s 330ms/step - loss: 0.4579 - acc: 0.8344 - val_loss: 0.9015 - val_acc: 0.7308\n",
      "Epoch 8/20\n",
      "479/479 [==============================] - 155s 323ms/step - loss: 0.3323 - acc: 0.8832 - val_loss: 1.2024 - val_acc: 0.6973\n",
      "Epoch 9/20\n",
      "479/479 [==============================] - 155s 323ms/step - loss: 0.2497 - acc: 0.9151 - val_loss: 1.2966 - val_acc: 0.7007\n",
      "Epoch 10/20\n",
      "479/479 [==============================] - 155s 324ms/step - loss: 0.1958 - acc: 0.9314 - val_loss: 1.3067 - val_acc: 0.7107\n",
      "Epoch 11/20\n",
      "479/479 [==============================] - 156s 325ms/step - loss: 0.1533 - acc: 0.9479 - val_loss: 1.4634 - val_acc: 0.7124\n",
      "Epoch 12/20\n",
      "479/479 [==============================] - 156s 325ms/step - loss: 0.1199 - acc: 0.9582 - val_loss: 1.6375 - val_acc: 0.6940\n",
      "Epoch 13/20\n",
      "479/479 [==============================] - 155s 325ms/step - loss: 0.0976 - acc: 0.9662 - val_loss: 1.9331 - val_acc: 0.7090\n",
      "Epoch 14/20\n",
      "479/479 [==============================] - 155s 323ms/step - loss: 0.1144 - acc: 0.9632 - val_loss: 1.7181 - val_acc: 0.7015\n",
      "Epoch 15/20\n",
      "479/479 [==============================] - 155s 323ms/step - loss: 0.1035 - acc: 0.9678 - val_loss: 1.5390 - val_acc: 0.6814\n",
      "Epoch 16/20\n",
      "479/479 [==============================] - 155s 323ms/step - loss: 0.0908 - acc: 0.9720 - val_loss: 2.1233 - val_acc: 0.6965\n",
      "Epoch 17/20\n",
      "479/479 [==============================] - 155s 324ms/step - loss: 0.0741 - acc: 0.9770 - val_loss: 1.8858 - val_acc: 0.7107\n",
      "Epoch 18/20\n",
      "479/479 [==============================] - 155s 323ms/step - loss: 0.0847 - acc: 0.9755 - val_loss: 1.9831 - val_acc: 0.7057\n",
      "Epoch 19/20\n",
      "479/479 [==============================] - 158s 330ms/step - loss: 0.1014 - acc: 0.9704 - val_loss: 2.2818 - val_acc: 0.7007\n",
      "Epoch 20/20\n",
      "479/479 [==============================] - 159s 332ms/step - loss: 0.0900 - acc: 0.9729 - val_loss: 2.0312 - val_acc: 0.7074\n"
     ]
    }
   ],
   "source": [
    "history1 = model1.fit_generator(generator=train_generator, epochs=20, validation_data=validation_generator)"
   ]
  },
  {
   "cell_type": "code",
   "execution_count": 16,
   "metadata": {},
   "outputs": [
    {
     "data": {
      "image/png": "[encoded data removed]",
      "text/plain": [
       "<Figure size 432x288 with 1 Axes>"
      ]
     },
     "metadata": {
      "needs_background": "light"
     },
     "output_type": "display_data"
    },
    {
     "data": {
      "image/png": "[encoded data removed]",
      "text/plain": [
       "<Figure size 432x288 with 1 Axes>"
      ]
     },
     "metadata": {
      "needs_background": "light"
     },
     "output_type": "display_data"
    }
   ],
   "source": [
    "import matplotlib.pyplot as plt\n",
    "acc = history1.history['acc']\n",
    "val_acc = history1.history['val_acc']\n",
    "loss = history1.history['loss']\n",
    "val_loss = history1.history['val_loss']\n",
    "epochs = range(len(acc))\n",
    "plt.plot(epochs, acc, 'bo', label='Training acc')\n",
    "plt.plot(epochs, val_acc, 'b', label='Validation acc')\n",
    "plt.title('Training and validation accuracy')\n",
    "plt.legend()\n",
    "plt.figure()\n",
    "plt.plot(epochs, loss, 'bo', label='Training loss')\n",
    "plt.plot(epochs, val_loss, 'b', label='Validation loss')\n",
    "plt.title('Training and validation loss')\n",
    "plt.legend()\n",
    "plt.show()"
   ]
  },
  {
   "cell_type": "code",
   "execution_count": 17,
   "metadata": {},
   "outputs": [
    {
     "data": {
      "text/plain": [
       "(2.3301217555999756, 0.7089999914169312)"
      ]
     },
     "execution_count": 17,
     "metadata": {},
     "output_type": "execute_result"
    }
   ],
   "source": [
    "test_loss,test_acc=model1.evaluate_generator(test_generator,steps=50)\n",
    "test_loss,test_acc"
   ]
  },
  {
   "cell_type": "markdown",
   "metadata": {},
   "source": [
    "CNN모델2"
   ]
  },
  {
   "cell_type": "code",
   "execution_count": 18,
   "metadata": {},
   "outputs": [
    {
     "name": "stdout",
     "output_type": "stream",
     "text": [
      "Model: \"sequential_1\"\n",
      "_________________________________________________________________\n",
      "Layer (type)                 Output Shape              Param #   \n",
      "=================================================================\n",
      "conv2d_4 (Conv2D)            (None, 150, 150, 16)      448       \n",
      "_________________________________________________________________\n",
      "max_pooling2d_4 (MaxPooling2 (None, 75, 75, 16)        0         \n",
      "_________________________________________________________________\n",
      "conv2d_5 (Conv2D)            (None, 75, 75, 32)        4640      \n",
      "_________________________________________________________________\n",
      "max_pooling2d_5 (MaxPooling2 (None, 37, 37, 32)        0         \n",
      "_________________________________________________________________\n",
      "conv2d_6 (Conv2D)            (None, 37, 37, 64)        18496     \n",
      "_________________________________________________________________\n",
      "max_pooling2d_6 (MaxPooling2 (None, 18, 18, 64)        0         \n",
      "_________________________________________________________________\n",
      "conv2d_7 (Conv2D)            (None, 18, 18, 128)       73856     \n",
      "_________________________________________________________________\n",
      "max_pooling2d_7 (MaxPooling2 (None, 9, 9, 128)         0         \n",
      "_________________________________________________________________\n",
      "flatten_1 (Flatten)          (None, 10368)             0         \n",
      "_________________________________________________________________\n",
      "dense_2 (Dense)              (None, 128)               1327232   \n",
      "_________________________________________________________________\n",
      "dropout_1 (Dropout)          (None, 128)               0         \n",
      "_________________________________________________________________\n",
      "dense_3 (Dense)              (None, 7)                 903       \n",
      "=================================================================\n",
      "Total params: 1,425,575\n",
      "Trainable params: 1,425,575\n",
      "Non-trainable params: 0\n",
      "_________________________________________________________________\n"
     ]
    }
   ],
   "source": [
    "from tensorflow.keras.models import Sequential\n",
    "from tensorflow.keras.layers import Dense, Dropout, Flatten\n",
    "from tensorflow.keras.layers import Conv2D, MaxPooling2D\n",
    "\n",
    "model2 = Sequential()\n",
    "\n",
    "model2.add(Conv2D(filters=16, kernel_size=(3, 3), input_shape=(150, 150, 3), padding=\"same\", activation=\"relu\"))\n",
    "model2.add(MaxPooling2D(pool_size=(2, 2))) \n",
    "model2.add(Conv2D(filters=32, kernel_size=(3, 3), input_shape=(150, 150, 3), padding=\"same\", activation=\"relu\"))\n",
    "model2.add(MaxPooling2D(pool_size=(2, 2)))\n",
    "model2.add(Conv2D(filters=64, kernel_size=(3, 3), input_shape=(150, 150, 3), padding=\"same\", activation=\"relu\"))\n",
    "model2.add(MaxPooling2D(pool_size=(2, 2)))\n",
    "model2.add(Conv2D(filters=128, kernel_size=(3, 3), input_shape=(150, 150, 3), padding=\"same\", activation=\"relu\"))\n",
    "model2.add(MaxPooling2D(pool_size=(2, 2)))\n",
    "\n",
    "model2.add(Flatten())\n",
    "model2.add(Dense(units=128, activation=\"relu\"))\n",
    "model2.add(Dropout(0.5))\n",
    "model2.add(Dense(units=7, activation=\"softmax\"))\n",
    "model2.summary()"
   ]
  },
  {
   "cell_type": "code",
   "execution_count": 19,
   "metadata": {},
   "outputs": [],
   "source": [
    "model2.compile(loss=\"categorical_crossentropy\", optimizer=\"adam\",metrics=[\"acc\"])"
   ]
  },
  {
   "cell_type": "code",
   "execution_count": 20,
   "metadata": {},
   "outputs": [
    {
     "name": "stdout",
     "output_type": "stream",
     "text": [
      "Epoch 1/20\n",
      "479/479 [==============================] - 75s 156ms/step - loss: 1.3342 - acc: 0.4512 - val_loss: 1.1579 - val_acc: 0.5987\n",
      "Epoch 2/20\n",
      "479/479 [==============================] - 76s 159ms/step - loss: 1.1443 - acc: 0.5818 - val_loss: 1.0896 - val_acc: 0.6012\n",
      "Epoch 3/20\n",
      "479/479 [==============================] - 76s 158ms/step - loss: 1.0609 - acc: 0.6339 - val_loss: 0.9572 - val_acc: 0.6714\n",
      "Epoch 4/20\n",
      "479/479 [==============================] - 76s 158ms/step - loss: 0.9704 - acc: 0.6733 - val_loss: 0.8942 - val_acc: 0.6973\n",
      "Epoch 5/20\n",
      "479/479 [==============================] - 76s 158ms/step - loss: 0.9149 - acc: 0.6841 - val_loss: 0.8623 - val_acc: 0.7182\n",
      "Epoch 6/20\n",
      "479/479 [==============================] - 76s 160ms/step - loss: 0.8215 - acc: 0.7158 - val_loss: 0.8327 - val_acc: 0.7182\n",
      "Epoch 7/20\n",
      "479/479 [==============================] - 76s 159ms/step - loss: 0.7445 - acc: 0.7435 - val_loss: 0.8266 - val_acc: 0.7316\n",
      "Epoch 8/20\n",
      "479/479 [==============================] - 76s 158ms/step - loss: 0.6829 - acc: 0.7559 - val_loss: 0.8703 - val_acc: 0.7191\n",
      "Epoch 9/20\n",
      "479/479 [==============================] - 75s 157ms/step - loss: 0.5720 - acc: 0.7974 - val_loss: 0.9280 - val_acc: 0.7149\n",
      "Epoch 10/20\n",
      "479/479 [==============================] - 71s 149ms/step - loss: 0.4991 - acc: 0.8205 - val_loss: 0.9424 - val_acc: 0.7266\n",
      "Epoch 11/20\n",
      "479/479 [==============================] - 75s 156ms/step - loss: 0.4305 - acc: 0.8439 - val_loss: 1.0561 - val_acc: 0.7316\n",
      "Epoch 12/20\n",
      "479/479 [==============================] - 78s 163ms/step - loss: 0.3774 - acc: 0.8614 - val_loss: 1.0042 - val_acc: 0.7299\n",
      "Epoch 13/20\n",
      "479/479 [==============================] - 74s 154ms/step - loss: 0.3305 - acc: 0.8806 - val_loss: 1.1323 - val_acc: 0.7241\n",
      "Epoch 14/20\n",
      "479/479 [==============================] - 73s 153ms/step - loss: 0.2795 - acc: 0.8994 - val_loss: 1.2545 - val_acc: 0.7316\n",
      "Epoch 15/20\n",
      "479/479 [==============================] - 73s 153ms/step - loss: 0.2544 - acc: 0.9098 - val_loss: 1.4252 - val_acc: 0.7107\n",
      "Epoch 16/20\n",
      "479/479 [==============================] - 74s 155ms/step - loss: 0.2396 - acc: 0.9149 - val_loss: 1.4607 - val_acc: 0.7015\n",
      "Epoch 17/20\n",
      "479/479 [==============================] - 74s 155ms/step - loss: 0.2223 - acc: 0.9202 - val_loss: 1.3885 - val_acc: 0.7483\n",
      "Epoch 18/20\n",
      "479/479 [==============================] - 72s 151ms/step - loss: 0.2000 - acc: 0.9263 - val_loss: 1.5182 - val_acc: 0.7166\n",
      "Epoch 19/20\n",
      "479/479 [==============================] - 72s 150ms/step - loss: 0.1827 - acc: 0.9345 - val_loss: 1.8460 - val_acc: 0.7308\n",
      "Epoch 20/20\n",
      "479/479 [==============================] - 72s 151ms/step - loss: 0.1997 - acc: 0.9295 - val_loss: 1.8982 - val_acc: 0.7149\n"
     ]
    }
   ],
   "source": [
    "history2 = model2.fit_generator(generator=train_generator, epochs=20, validation_data=validation_generator)"
   ]
  },
  {
   "cell_type": "code",
   "execution_count": 21,
   "metadata": {},
   "outputs": [
    {
     "data": {
      "image/png": "[encoded data removed]",
      "text/plain": [
       "<Figure size 432x288 with 1 Axes>"
      ]
     },
     "metadata": {
      "needs_background": "light"
     },
     "output_type": "display_data"
    },
    {
     "data": {
      "image/png": "[encoded data removed]",
      "text/plain": [
       "<Figure size 432x288 with 1 Axes>"
      ]
     },
     "metadata": {
      "needs_background": "light"
     },
     "output_type": "display_data"
    }
   ],
   "source": [
    "import matplotlib.pyplot as plt\n",
    "acc = history2.history['acc']\n",
    "val_acc = history2.history['val_acc']\n",
    "loss = history2.history['loss']\n",
    "val_loss = history2.history['val_loss']\n",
    "epochs = range(len(acc))\n",
    "plt.plot(epochs, acc, 'bo', label='Training acc')\n",
    "plt.plot(epochs, val_acc, 'b', label='Validation acc')\n",
    "plt.title('Training and validation accuracy')\n",
    "plt.legend()\n",
    "plt.figure()\n",
    "plt.plot(epochs, loss, 'bo', label='Training loss')\n",
    "plt.plot(epochs, val_loss, 'b', label='Validation loss')\n",
    "plt.title('Training and validation loss')\n",
    "plt.legend()\n",
    "plt.show()"
   ]
  },
  {
   "cell_type": "code",
   "execution_count": 22,
   "metadata": {},
   "outputs": [
    {
     "data": {
      "text/plain": [
       "(1.7980824708938599, 0.7260000109672546)"
      ]
     },
     "execution_count": 22,
     "metadata": {},
     "output_type": "execute_result"
    }
   ],
   "source": [
    "test_loss,test_acc=model2.evaluate_generator(test_generator,steps=50)\n",
    "test_loss, test_acc"
   ]
  },
  {
   "cell_type": "markdown",
   "metadata": {},
   "source": [
    "CNN모델3"
   ]
  },
  {
   "cell_type": "code",
   "execution_count": 23,
   "metadata": {},
   "outputs": [
    {
     "name": "stdout",
     "output_type": "stream",
     "text": [
      "Model: \"sequential_2\"\n",
      "_________________________________________________________________\n",
      "Layer (type)                 Output Shape              Param #   \n",
      "=================================================================\n",
      "conv2d_8 (Conv2D)            (None, 150, 150, 32)      896       \n",
      "_________________________________________________________________\n",
      "max_pooling2d_8 (MaxPooling2 (None, 75, 75, 32)        0         \n",
      "_________________________________________________________________\n",
      "conv2d_9 (Conv2D)            (None, 75, 75, 64)        18496     \n",
      "_________________________________________________________________\n",
      "max_pooling2d_9 (MaxPooling2 (None, 37, 37, 64)        0         \n",
      "_________________________________________________________________\n",
      "conv2d_10 (Conv2D)           (None, 37, 37, 128)       73856     \n",
      "_________________________________________________________________\n",
      "max_pooling2d_10 (MaxPooling (None, 18, 18, 128)       0         \n",
      "_________________________________________________________________\n",
      "flatten_2 (Flatten)          (None, 41472)             0         \n",
      "_________________________________________________________________\n",
      "dense_4 (Dense)              (None, 256)               10617088  \n",
      "_________________________________________________________________\n",
      "dropout_2 (Dropout)          (None, 256)               0         \n",
      "_________________________________________________________________\n",
      "dense_5 (Dense)              (None, 7)                 1799      \n",
      "=================================================================\n",
      "Total params: 10,712,135\n",
      "Trainable params: 10,712,135\n",
      "Non-trainable params: 0\n",
      "_________________________________________________________________\n"
     ]
    }
   ],
   "source": [
    "from tensorflow.keras.models import Sequential\n",
    "from tensorflow.keras.layers import Dense, Dropout, Flatten\n",
    "from tensorflow.keras.layers import Conv2D, MaxPooling2D\n",
    "\n",
    "model3 = Sequential()\n",
    "\n",
    "model3.add(Conv2D(filters=32, kernel_size=(3, 3), input_shape=(150, 150, 3), padding=\"same\", activation=\"relu\"))\n",
    "model3.add(MaxPooling2D(pool_size=(2, 2))) \n",
    "model3.add(Conv2D(filters=64, kernel_size=(3, 3), input_shape=(150, 150, 3), padding=\"same\", activation=\"relu\"))\n",
    "model3.add(MaxPooling2D(pool_size=(2, 2)))\n",
    "model3.add(Conv2D(filters=128, kernel_size=(3, 3), input_shape=(150, 150, 3), padding=\"same\", activation=\"relu\"))\n",
    "model3.add(MaxPooling2D(pool_size=(2, 2)))\n",
    "\n",
    "model3.add(Flatten())\n",
    "model3.add(Dense(units=256, activation=\"relu\"))\n",
    "model3.add(Dropout(0.3))\n",
    "model3.add(Dense(units=7, activation=\"softmax\"))\n",
    "model3.summary()"
   ]
  },
  {
   "cell_type": "code",
   "execution_count": 24,
   "metadata": {},
   "outputs": [],
   "source": [
    "model3.compile(loss=\"categorical_crossentropy\", optimizer=\"adam\",metrics=[\"acc\"])"
   ]
  },
  {
   "cell_type": "code",
   "execution_count": 25,
   "metadata": {},
   "outputs": [
    {
     "name": "stdout",
     "output_type": "stream",
     "text": [
      "Epoch 1/20\n",
      "479/479 [==============================] - 129s 268ms/step - loss: 1.2304 - acc: 0.5308 - val_loss: 1.1821 - val_acc: 0.5686\n",
      "Epoch 2/20\n",
      "479/479 [==============================] - 130s 271ms/step - loss: 1.0121 - acc: 0.6442 - val_loss: 0.9427 - val_acc: 0.6747\n",
      "Epoch 3/20\n",
      "479/479 [==============================] - 129s 270ms/step - loss: 0.8885 - acc: 0.6882 - val_loss: 0.8877 - val_acc: 0.6948\n",
      "Epoch 4/20\n",
      "479/479 [==============================] - 130s 271ms/step - loss: 0.7374 - acc: 0.7368 - val_loss: 0.9094 - val_acc: 0.6973\n",
      "Epoch 5/20\n",
      "479/479 [==============================] - 136s 283ms/step - loss: 0.5644 - acc: 0.8006 - val_loss: 0.9326 - val_acc: 0.6873\n",
      "Epoch 6/20\n",
      "479/479 [==============================] - 131s 273ms/step - loss: 0.3702 - acc: 0.8692 - val_loss: 1.0924 - val_acc: 0.7149\n",
      "Epoch 7/20\n",
      "479/479 [==============================] - 131s 273ms/step - loss: 0.2184 - acc: 0.9271 - val_loss: 1.2782 - val_acc: 0.7065\n",
      "Epoch 8/20\n",
      "479/479 [==============================] - 128s 267ms/step - loss: 0.1423 - acc: 0.9535 - val_loss: 1.4886 - val_acc: 0.7099\n",
      "Epoch 9/20\n",
      "479/479 [==============================] - 127s 265ms/step - loss: 0.1207 - acc: 0.9604 - val_loss: 1.8922 - val_acc: 0.6664\n",
      "Epoch 10/20\n",
      "479/479 [==============================] - 127s 264ms/step - loss: 0.0939 - acc: 0.9720 - val_loss: 1.8053 - val_acc: 0.6931\n",
      "Epoch 11/20\n",
      "479/479 [==============================] - 126s 264ms/step - loss: 0.0845 - acc: 0.9734 - val_loss: 2.0494 - val_acc: 0.6789\n",
      "Epoch 12/20\n",
      "479/479 [==============================] - 128s 267ms/step - loss: 0.0772 - acc: 0.9766 - val_loss: 1.8389 - val_acc: 0.7082\n",
      "Epoch 13/20\n",
      "479/479 [==============================] - 125s 261ms/step - loss: 0.0590 - acc: 0.9833 - val_loss: 2.1485 - val_acc: 0.6731\n",
      "Epoch 14/20\n",
      "479/479 [==============================] - 123s 258ms/step - loss: 0.0650 - acc: 0.9797 - val_loss: 2.2962 - val_acc: 0.6472\n",
      "Epoch 15/20\n",
      "479/479 [==============================] - 124s 258ms/step - loss: 0.0694 - acc: 0.9764 - val_loss: 2.1960 - val_acc: 0.6881\n",
      "Epoch 16/20\n",
      "479/479 [==============================] - 125s 261ms/step - loss: 0.0571 - acc: 0.9835 - val_loss: 2.5391 - val_acc: 0.6856\n",
      "Epoch 17/20\n",
      "479/479 [==============================] - 125s 260ms/step - loss: 0.0666 - acc: 0.9800 - val_loss: 2.3184 - val_acc: 0.6948\n",
      "Epoch 18/20\n",
      "479/479 [==============================] - 125s 261ms/step - loss: 0.0519 - acc: 0.9846 - val_loss: 2.2872 - val_acc: 0.6747\n",
      "Epoch 19/20\n",
      "479/479 [==============================] - 123s 257ms/step - loss: 0.0441 - acc: 0.9853 - val_loss: 2.6076 - val_acc: 0.6873\n",
      "Epoch 20/20\n",
      "479/479 [==============================] - 122s 255ms/step - loss: 0.0497 - acc: 0.9855 - val_loss: 2.4227 - val_acc: 0.6689\n"
     ]
    }
   ],
   "source": [
    "history3 = model3.fit_generator(generator=train_generator, epochs=20, validation_data=validation_generator)"
   ]
  },
  {
   "cell_type": "code",
   "execution_count": 26,
   "metadata": {},
   "outputs": [
    {
     "data": {
      "image/png": "[encoded data removed]",
      "text/plain": [
       "<Figure size 432x288 with 1 Axes>"
      ]
     },
     "metadata": {
      "needs_background": "light"
     },
     "output_type": "display_data"
    },
    {
     "data": {
      "image/png": "[encoded data removed]",
      "text/plain": [
       "<Figure size 432x288 with 1 Axes>"
      ]
     },
     "metadata": {
      "needs_background": "light"
     },
     "output_type": "display_data"
    }
   ],
   "source": [
    "import matplotlib.pyplot as plt\n",
    "acc = history3.history['acc']\n",
    "val_acc = history3.history['val_acc']\n",
    "loss = history3.history['loss']\n",
    "val_loss = history3.history['val_loss']\n",
    "epochs = range(len(acc))\n",
    "plt.plot(epochs, acc, 'bo', label='Training acc')\n",
    "plt.plot(epochs, val_acc, 'b', label='Validation acc')\n",
    "plt.title('Training and validation accuracy')\n",
    "plt.legend()\n",
    "plt.figure()\n",
    "plt.plot(epochs, loss, 'bo', label='Training loss')\n",
    "plt.plot(epochs, val_loss, 'b', label='Validation loss')\n",
    "plt.title('Training and validation loss')\n",
    "plt.legend()\n",
    "plt.show()"
   ]
  },
  {
   "cell_type": "code",
   "execution_count": 27,
   "metadata": {},
   "outputs": [
    {
     "data": {
      "text/plain": [
       "(2.6451358795166016, 0.6650000214576721)"
      ]
     },
     "execution_count": 27,
     "metadata": {},
     "output_type": "execute_result"
    }
   ],
   "source": [
    "test_loss,test_acc=model3.evaluate_generator(test_generator,steps=50)\n",
    "test_loss, test_acc"
   ]
  },
  {
   "cell_type": "code",
   "execution_count": null,
   "metadata": {},
   "outputs": [],
   "source": [
    "CNN모델4"
   ]
  },
  {
   "cell_type": "code",
   "execution_count": 28,
   "metadata": {},
   "outputs": [
    {
     "name": "stdout",
     "output_type": "stream",
     "text": [
      "Model: \"sequential_3\"\n",
      "_________________________________________________________________\n",
      "Layer (type)                 Output Shape              Param #   \n",
      "=================================================================\n",
      "conv2d_11 (Conv2D)           (None, 150, 150, 64)      1792      \n",
      "_________________________________________________________________\n",
      "max_pooling2d_11 (MaxPooling (None, 75, 75, 64)        0         \n",
      "_________________________________________________________________\n",
      "conv2d_12 (Conv2D)           (None, 75, 75, 128)       73856     \n",
      "_________________________________________________________________\n",
      "max_pooling2d_12 (MaxPooling (None, 37, 37, 128)       0         \n",
      "_________________________________________________________________\n",
      "conv2d_13 (Conv2D)           (None, 37, 37, 256)       295168    \n",
      "_________________________________________________________________\n",
      "max_pooling2d_13 (MaxPooling (None, 18, 18, 256)       0         \n",
      "_________________________________________________________________\n",
      "flatten_3 (Flatten)          (None, 82944)             0         \n",
      "_________________________________________________________________\n",
      "dense_6 (Dense)              (None, 512)               42467840  \n",
      "_________________________________________________________________\n",
      "dropout_3 (Dropout)          (None, 512)               0         \n",
      "_________________________________________________________________\n",
      "dense_7 (Dense)              (None, 7)                 3591      \n",
      "=================================================================\n",
      "Total params: 42,842,247\n",
      "Trainable params: 42,842,247\n",
      "Non-trainable params: 0\n",
      "_________________________________________________________________\n"
     ]
    }
   ],
   "source": [
    "from tensorflow.keras.models import Sequential\n",
    "from tensorflow.keras.layers import Dense, Dropout, Flatten\n",
    "from tensorflow.keras.layers import Conv2D, MaxPooling2D\n",
    "\n",
    "model4 = Sequential()\n",
    "\n",
    "model4.add(Conv2D(filters=64, kernel_size=(3, 3), input_shape=(150, 150, 3), padding=\"same\", activation=\"relu\"))\n",
    "model4.add(MaxPooling2D(pool_size=(2, 2))) \n",
    "model4.add(Conv2D(filters=128, kernel_size=(3, 3), input_shape=(150, 150, 3), padding=\"same\", activation=\"relu\"))\n",
    "model4.add(MaxPooling2D(pool_size=(2, 2)))\n",
    "model4.add(Conv2D(filters=256, kernel_size=(3, 3), input_shape=(150, 150, 3), padding=\"same\", activation=\"relu\"))\n",
    "model4.add(MaxPooling2D(pool_size=(2, 2)))\n",
    "\n",
    "\n",
    "model4.add(Flatten())\n",
    "model4.add(Dense(units=512, activation=\"relu\"))\n",
    "model4.add(Dropout(0.5))\n",
    "model4.add(Dense(units=7, activation=\"softmax\"))\n",
    "model4.summary()"
   ]
  },
  {
   "cell_type": "code",
   "execution_count": 29,
   "metadata": {},
   "outputs": [],
   "source": [
    "model4.compile(loss=\"categorical_crossentropy\", optimizer=\"adam\",metrics=[\"acc\"])"
   ]
  },
  {
   "cell_type": "code",
   "execution_count": 30,
   "metadata": {},
   "outputs": [
    {
     "name": "stdout",
     "output_type": "stream",
     "text": [
      "Epoch 1/10\n",
      "479/479 [==============================] - 369s 770ms/step - loss: 1.2826 - acc: 0.5150 - val_loss: 1.0950 - val_acc: 0.6154\n",
      "Epoch 2/10\n",
      "479/479 [==============================] - 371s 775ms/step - loss: 1.0671 - acc: 0.6264 - val_loss: 1.0005 - val_acc: 0.6714\n",
      "Epoch 3/10\n",
      "479/479 [==============================] - 369s 769ms/step - loss: 0.9348 - acc: 0.6747 - val_loss: 0.9640 - val_acc: 0.6898\n",
      "Epoch 4/10\n",
      "479/479 [==============================] - 373s 779ms/step - loss: 0.8039 - acc: 0.7164 - val_loss: 0.9362 - val_acc: 0.6931\n",
      "Epoch 5/10\n",
      "479/479 [==============================] - 366s 764ms/step - loss: 0.6264 - acc: 0.7781 - val_loss: 0.8921 - val_acc: 0.7199\n",
      "Epoch 6/10\n",
      "479/479 [==============================] - 368s 769ms/step - loss: 0.4231 - acc: 0.8551 - val_loss: 0.9456 - val_acc: 0.7174\n",
      "Epoch 7/10\n",
      "479/479 [==============================] - 371s 774ms/step - loss: 0.2753 - acc: 0.9058 - val_loss: 1.1541 - val_acc: 0.7199\n",
      "Epoch 8/10\n",
      "479/479 [==============================] - 370s 772ms/step - loss: 0.1665 - acc: 0.9445 - val_loss: 1.3204 - val_acc: 0.7099\n",
      "Epoch 9/10\n",
      "479/479 [==============================] - 369s 770ms/step - loss: 0.1514 - acc: 0.9497 - val_loss: 1.7129 - val_acc: 0.6848\n",
      "Epoch 10/10\n",
      "479/479 [==============================] - 371s 775ms/step - loss: 0.1191 - acc: 0.9619 - val_loss: 1.5905 - val_acc: 0.7149\n"
     ]
    }
   ],
   "source": [
    "history4 = model4.fit_generator(generator=train_generator, epochs=10, validation_data=validation_generator)"
   ]
  },
  {
   "cell_type": "code",
   "execution_count": 32,
   "metadata": {},
   "outputs": [
    {
     "data": {
      "image/png": "[encoded data removed]",
      "text/plain": [
       "<Figure size 432x288 with 1 Axes>"
      ]
     },
     "metadata": {
      "needs_background": "light"
     },
     "output_type": "display_data"
    },
    {
     "data": {
      "image/png": "[encoded data removed]",
      "text/plain": [
       "<Figure size 432x288 with 1 Axes>"
      ]
     },
     "metadata": {
      "needs_background": "light"
     },
     "output_type": "display_data"
    }
   ],
   "source": [
    "import matplotlib.pyplot as plt\n",
    "acc = history4.history['acc']\n",
    "val_acc = history4.history['val_acc']\n",
    "loss = history4.history['loss']\n",
    "val_loss = history4.history['val_loss']\n",
    "epochs = range(len(acc))\n",
    "plt.plot(epochs, acc, 'bo', label='Training acc')\n",
    "plt.plot(epochs, val_acc, 'b', label='Validation acc')\n",
    "plt.title('Training and validation accuracy')\n",
    "plt.legend()\n",
    "plt.figure()\n",
    "plt.plot(epochs, loss, 'bo', label='Training loss')\n",
    "plt.plot(epochs, val_loss, 'b', label='Validation loss')\n",
    "plt.title('Training and validation loss')\n",
    "plt.legend()\n",
    "plt.show()"
   ]
  },
  {
   "cell_type": "code",
   "execution_count": 33,
   "metadata": {},
   "outputs": [
    {
     "data": {
      "text/plain": [
       "(1.601718783378601, 0.7129999995231628)"
      ]
     },
     "execution_count": 33,
     "metadata": {},
     "output_type": "execute_result"
    }
   ],
   "source": [
    "test_loss,test_acc=model4.evaluate_generator(test_generator,steps=50)\n",
    "test_loss, test_acc"
   ]
  },
  {
   "cell_type": "code",
   "execution_count": null,
   "metadata": {},
   "outputs": [],
   "source": [
    "CNN모델5"
   ]
  },
  {
   "cell_type": "code",
   "execution_count": 34,
   "metadata": {},
   "outputs": [
    {
     "name": "stdout",
     "output_type": "stream",
     "text": [
      "Model: \"sequential_4\"\n",
      "_________________________________________________________________\n",
      "Layer (type)                 Output Shape              Param #   \n",
      "=================================================================\n",
      "conv2d_14 (Conv2D)           (None, 150, 150, 16)      448       \n",
      "_________________________________________________________________\n",
      "max_pooling2d_14 (MaxPooling (None, 75, 75, 16)        0         \n",
      "_________________________________________________________________\n",
      "conv2d_15 (Conv2D)           (None, 75, 75, 32)        4640      \n",
      "_________________________________________________________________\n",
      "max_pooling2d_15 (MaxPooling (None, 37, 37, 32)        0         \n",
      "_________________________________________________________________\n",
      "conv2d_16 (Conv2D)           (None, 37, 37, 64)        18496     \n",
      "_________________________________________________________________\n",
      "max_pooling2d_16 (MaxPooling (None, 18, 18, 64)        0         \n",
      "_________________________________________________________________\n",
      "flatten_4 (Flatten)          (None, 20736)             0         \n",
      "_________________________________________________________________\n",
      "dense_8 (Dense)              (None, 128)               2654336   \n",
      "_________________________________________________________________\n",
      "dropout_4 (Dropout)          (None, 128)               0         \n",
      "_________________________________________________________________\n",
      "dense_9 (Dense)              (None, 7)                 903       \n",
      "=================================================================\n",
      "Total params: 2,678,823\n",
      "Trainable params: 2,678,823\n",
      "Non-trainable params: 0\n",
      "_________________________________________________________________\n"
     ]
    }
   ],
   "source": [
    "from tensorflow.keras.models import Sequential\n",
    "from tensorflow.keras.layers import Dense, Dropout, Flatten\n",
    "from tensorflow.keras.layers import Conv2D, MaxPooling2D\n",
    "\n",
    "model5 = Sequential()\n",
    "\n",
    "model5.add(Conv2D(filters=16, kernel_size=(3, 3), input_shape=(150, 150, 3), padding=\"same\", activation=\"relu\"))\n",
    "model5.add(MaxPooling2D(pool_size=(2, 2))) \n",
    "model5.add(Conv2D(filters=32, kernel_size=(3, 3), input_shape=(150, 150, 3), padding=\"same\", activation=\"relu\"))\n",
    "model5.add(MaxPooling2D(pool_size=(2, 2)))\n",
    "model5.add(Conv2D(filters=64, kernel_size=(3, 3), input_shape=(150, 150, 3), padding=\"same\", activation=\"relu\"))\n",
    "model5.add(MaxPooling2D(pool_size=(2, 2)))\n",
    "\n",
    "model5.add(Flatten())\n",
    "model5.add(Dense(units=128, activation=\"relu\"))\n",
    "model5.add(Dropout(0.3))\n",
    "model5.add(Dense(units=7, activation=\"softmax\"))\n",
    "model5.summary()"
   ]
  },
  {
   "cell_type": "code",
   "execution_count": 35,
   "metadata": {},
   "outputs": [],
   "source": [
    "model5.compile(loss=\"categorical_crossentropy\", optimizer=\"adam\",metrics=[\"acc\"])"
   ]
  },
  {
   "cell_type": "code",
   "execution_count": 36,
   "metadata": {},
   "outputs": [
    {
     "name": "stdout",
     "output_type": "stream",
     "text": [
      "Epoch 1/10\n",
      "479/479 [==============================] - 70s 146ms/step - loss: 1.2304 - acc: 0.5404 - val_loss: 1.0137 - val_acc: 0.6647\n",
      "Epoch 2/10\n",
      "479/479 [==============================] - 71s 148ms/step - loss: 1.0221 - acc: 0.6470 - val_loss: 0.9287 - val_acc: 0.6890\n",
      "Epoch 3/10\n",
      "479/479 [==============================] - 69s 144ms/step - loss: 0.9314 - acc: 0.6820 - val_loss: 0.9445 - val_acc: 0.6714\n",
      "Epoch 4/10\n",
      "479/479 [==============================] - 70s 145ms/step - loss: 0.8385 - acc: 0.7056 - val_loss: 0.8731 - val_acc: 0.6965\n",
      "Epoch 5/10\n",
      "479/479 [==============================] - 70s 146ms/step - loss: 0.7077 - acc: 0.7495 - val_loss: 0.9125 - val_acc: 0.6982\n",
      "Epoch 6/10\n",
      "479/479 [==============================] - 71s 148ms/step - loss: 0.5984 - acc: 0.7900 - val_loss: 0.9757 - val_acc: 0.6764\n",
      "Epoch 7/10\n",
      "479/479 [==============================] - 69s 144ms/step - loss: 0.4496 - acc: 0.8392 - val_loss: 0.9560 - val_acc: 0.7199\n",
      "Epoch 8/10\n",
      "479/479 [==============================] - 69s 145ms/step - loss: 0.3467 - acc: 0.8772 - val_loss: 1.0704 - val_acc: 0.7174\n",
      "Epoch 9/10\n",
      "479/479 [==============================] - 70s 147ms/step - loss: 0.2598 - acc: 0.9062 - val_loss: 1.1482 - val_acc: 0.7057\n",
      "Epoch 10/10\n",
      "479/479 [==============================] - 71s 149ms/step - loss: 0.1972 - acc: 0.9298 - val_loss: 1.4581 - val_acc: 0.7082\n"
     ]
    }
   ],
   "source": [
    "history5 = model5.fit_generator(generator=train_generator, epochs=10, validation_data=validation_generator)"
   ]
  },
  {
   "cell_type": "code",
   "execution_count": 37,
   "metadata": {},
   "outputs": [
    {
     "data": {
      "image/png": "[encoded data removed]",
      "text/plain": [
       "<Figure size 432x288 with 1 Axes>"
      ]
     },
     "metadata": {
      "needs_background": "light"
     },
     "output_type": "display_data"
    },
    {
     "data": {
      "image/png": "[encoded data removed]",
      "text/plain": [
       "<Figure size 432x288 with 1 Axes>"
      ]
     },
     "metadata": {
      "needs_background": "light"
     },
     "output_type": "display_data"
    }
   ],
   "source": [
    "import matplotlib.pyplot as plt\n",
    "acc = history5.history['acc']\n",
    "val_acc = history5.history['val_acc']\n",
    "loss = history5.history['loss']\n",
    "val_loss = history5.history['val_loss']\n",
    "epochs = range(len(acc))\n",
    "plt.plot(epochs, acc, 'bo', label='Training acc')\n",
    "plt.plot(epochs, val_acc, 'b', label='Validation acc')\n",
    "plt.title('Training and validation accuracy')\n",
    "plt.legend()\n",
    "plt.figure()\n",
    "plt.plot(epochs, loss, 'bo', label='Training loss')\n",
    "plt.plot(epochs, val_loss, 'b', label='Validation loss')\n",
    "plt.title('Training and validation loss')\n",
    "plt.legend()\n",
    "plt.show()"
   ]
  },
  {
   "cell_type": "code",
   "execution_count": 38,
   "metadata": {},
   "outputs": [
    {
     "data": {
      "text/plain": [
       "(1.5170949697494507, 0.6930000185966492)"
      ]
     },
     "execution_count": 38,
     "metadata": {},
     "output_type": "execute_result"
    }
   ],
   "source": [
    "test_loss,test_acc=model5.evaluate_generator(test_generator,steps=50)\n",
    "test_loss, test_acc"
   ]
  }
 ],
 "metadata": {
  "kernelspec": {
   "display_name": "Python 3",
   "language": "python",
   "name": "python3"
  },
  "language_info": {
   "codemirror_mode": {
    "name": "ipython",
    "version": 3
   },
   "file_extension": ".py",
   "mimetype": "text/x-python",
   "name": "python",
   "nbconvert_exporter": "python",
   "pygments_lexer": "ipython3",
   "version": "3.8.5"
  }
 },
 "nbformat": 4,
 "nbformat_minor": 4
}
